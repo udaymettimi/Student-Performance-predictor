{
 "cells": [
  {
   "cell_type": "code",
   "execution_count": null,
   "metadata": {
    "_cell_guid": "b1076dfc-b9ad-4769-8c92-a6c4dae69d19",
    "_uuid": "8f2839f25d086af736a60e9eeb907d3b93b6e0e5",
    "execution": {
     "iopub.execute_input": "2022-08-15T06:38:47.740475Z",
     "iopub.status.busy": "2022-08-15T06:38:47.740051Z",
     "iopub.status.idle": "2022-08-15T06:38:47.744749Z",
     "shell.execute_reply": "2022-08-15T06:38:47.743984Z",
     "shell.execute_reply.started": "2022-08-15T06:38:47.740439Z"
    },
    "trusted": true
   },
   "outputs": [
    {
     "ename": "",
     "evalue": "",
     "output_type": "error",
     "traceback": [
      "\u001b[1;31mRunning cells with 'Python 3.13.0' requires the ipykernel package.\n",
      "\u001b[1;31mRun the following command to install 'ipykernel' into the Python environment. \n",
      "\u001b[1;31mCommand: '\"c:/Program Files/Python313/python.exe\" -m pip install ipykernel -U --user --force-reinstall'"
     ]
    }
   ],
   "source": [
    "import numpy as np\n",
    "import pandas as pd \n",
    "import matplotlib.pyplot as plt\n",
    "import seaborn as sns\n",
    "plt.rcParams.update({'figure.max_open_warning': 0}) # Hide warnings"
   ]
  },
  {
   "cell_type": "code",
   "execution_count": null,
   "metadata": {
    "execution": {
     "iopub.execute_input": "2022-08-15T06:38:47.746751Z",
     "iopub.status.busy": "2022-08-15T06:38:47.746381Z",
     "iopub.status.idle": "2022-08-15T06:38:47.777446Z",
     "shell.execute_reply": "2022-08-15T06:38:47.776634Z",
     "shell.execute_reply.started": "2022-08-15T06:38:47.746717Z"
    },
    "trusted": true
   },
   "outputs": [],
   "source": [
    "# Loading Files, df_mat for maths, df_por for portuguese\n",
    "df_mat =pd.read_csv('student/student-mat.csv',sep=';')\n",
    "df_por =pd.read_csv('student-por.csv',sep=';')"
   ]
  },
  {
   "cell_type": "code",
   "execution_count": null,
   "metadata": {
    "execution": {
     "iopub.execute_input": "2022-08-15T06:38:47.779026Z",
     "iopub.status.busy": "2022-08-15T06:38:47.778805Z",
     "iopub.status.idle": "2022-08-15T06:38:47.935324Z",
     "shell.execute_reply": "2022-08-15T06:38:47.934483Z",
     "shell.execute_reply.started": "2022-08-15T06:38:47.778997Z"
    },
    "trusted": true
   },
   "outputs": [],
   "source": [
    "# inspecting\n",
    "\n",
    "display(df_mat.head(), \n",
    "        df_por.head(),\n",
    "        df_mat.describe(),\n",
    "        df_por.describe(),\n",
    "        df_mat.info(),\n",
    "        df_por.info())"
   ]
  },
  {
   "cell_type": "code",
   "execution_count": null,
   "metadata": {
    "execution": {
     "iopub.execute_input": "2022-08-15T06:38:47.936867Z",
     "iopub.status.busy": "2022-08-15T06:38:47.936596Z",
     "iopub.status.idle": "2022-08-15T06:38:48.036407Z",
     "shell.execute_reply": "2022-08-15T06:38:48.035715Z",
     "shell.execute_reply.started": "2022-08-15T06:38:47.936832Z"
    },
    "trusted": true
   },
   "outputs": [],
   "source": [
    "# Merging both datframes\n",
    "df=pd.concat([df_mat, df_por], ignore_index=True)\n",
    "display(df.head(), df.describe(include=\"all\").round().T)"
   ]
  },
  {
   "cell_type": "code",
   "execution_count": null,
   "metadata": {
    "execution": {
     "iopub.execute_input": "2022-08-15T06:38:48.038110Z",
     "iopub.status.busy": "2022-08-15T06:38:48.037899Z",
     "iopub.status.idle": "2022-08-15T06:38:48.049649Z",
     "shell.execute_reply": "2022-08-15T06:38:48.048996Z",
     "shell.execute_reply.started": "2022-08-15T06:38:48.038086Z"
    },
    "trusted": true
   },
   "outputs": [],
   "source": [
    "#Check for null values\n",
    "df.isna().sum()"
   ]
  },
  {
   "cell_type": "code",
   "execution_count": null,
   "metadata": {
    "execution": {
     "iopub.execute_input": "2022-08-15T06:38:48.051061Z",
     "iopub.status.busy": "2022-08-15T06:38:48.050535Z",
     "iopub.status.idle": "2022-08-15T06:38:48.077246Z",
     "shell.execute_reply": "2022-08-15T06:38:48.076507Z",
     "shell.execute_reply.started": "2022-08-15T06:38:48.051028Z"
    },
    "trusted": true
   },
   "outputs": [],
   "source": [
    "# Change categorical columns to datatype \"category\"\n",
    "\n",
    "for col in['school', 'sex', 'address', 'famsize', 'Pstatus', 'Medu', 'Fedu',\n",
    "       'Mjob', 'Fjob', 'reason', 'guardian', 'traveltime', 'studytime',\n",
    "       'failures', 'schoolsup', 'famsup', 'paid', 'activities', 'nursery',\n",
    "       'higher', 'internet', 'romantic', 'famrel', 'freetime', 'goout', 'Dalc',\n",
    "       'Walc', 'health']:\n",
    "    df[col] = df[col].astype('category')"
   ]
  },
  {
   "cell_type": "code",
   "execution_count": null,
   "metadata": {
    "execution": {
     "iopub.execute_input": "2022-08-15T06:38:48.078777Z",
     "iopub.status.busy": "2022-08-15T06:38:48.078503Z",
     "iopub.status.idle": "2022-08-15T06:38:48.105334Z",
     "shell.execute_reply": "2022-08-15T06:38:48.104399Z",
     "shell.execute_reply.started": "2022-08-15T06:38:48.078732Z"
    },
    "trusted": true
   },
   "outputs": [],
   "source": [
    "df.info()"
   ]
  },
  {
   "cell_type": "code",
   "execution_count": null,
   "metadata": {
    "execution": {
     "iopub.execute_input": "2022-08-15T06:38:48.108357Z",
     "iopub.status.busy": "2022-08-15T06:38:48.107859Z",
     "iopub.status.idle": "2022-08-15T06:38:48.425305Z",
     "shell.execute_reply": "2022-08-15T06:38:48.424389Z",
     "shell.execute_reply.started": "2022-08-15T06:38:48.108316Z"
    },
    "trusted": true
   },
   "outputs": [],
   "source": [
    "# To display th Value counts\n",
    "\n",
    "result = df.select_dtypes(include='category')\n",
    "\n",
    "for i in result:\n",
    "    display(df.groupby(i).\n",
    "            count().T.\n",
    "            head(1).\n",
    "            reset_index().\n",
    "            drop('index',axis=1))\n",
    "    "
   ]
  },
  {
   "cell_type": "markdown",
   "metadata": {},
   "source": [
    "# Univarate Analysis\n",
    "\n",
    "-------------------------------------------------"
   ]
  },
  {
   "cell_type": "code",
   "execution_count": null,
   "metadata": {
    "execution": {
     "iopub.execute_input": "2022-08-15T06:38:48.426894Z",
     "iopub.status.busy": "2022-08-15T06:38:48.426672Z",
     "iopub.status.idle": "2022-08-15T06:38:52.081532Z",
     "shell.execute_reply": "2022-08-15T06:38:52.081011Z",
     "shell.execute_reply.started": "2022-08-15T06:38:48.426862Z"
    },
    "trusted": true
   },
   "outputs": [],
   "source": [
    "# Distribution of Categotical Varriable\n",
    "\n",
    "\n",
    "df1 = df.select_dtypes(exclude=['int64'])\n",
    "for i, col in enumerate(df1.columns):\n",
    "    plt.figure(i)\n",
    "    sns.countplot(x=col, data=df1,palette='magma')\n",
    "    plt.show()"
   ]
  },
  {
   "cell_type": "code",
   "execution_count": null,
   "metadata": {
    "execution": {
     "iopub.execute_input": "2022-08-15T06:38:52.083011Z",
     "iopub.status.busy": "2022-08-15T06:38:52.082644Z",
     "iopub.status.idle": "2022-08-15T06:38:52.925155Z",
     "shell.execute_reply": "2022-08-15T06:38:52.924013Z",
     "shell.execute_reply.started": "2022-08-15T06:38:52.082982Z"
    },
    "trusted": true
   },
   "outputs": [],
   "source": [
    "# Distribution of Numerical Varriable\n",
    "\n",
    "df1 = df.select_dtypes(include=['int64'])\n",
    "for i, col in enumerate(df1.columns):\n",
    "    plt.figure(i)\n",
    "    sns.histplot(x=col, data=df1,bins=10)\n",
    "    plt.show()"
   ]
  },
  {
   "cell_type": "markdown",
   "metadata": {},
   "source": [
    "# Bivarate Analysis"
   ]
  },
  {
   "cell_type": "markdown",
   "metadata": {},
   "source": [
    "## Schoolsup with the Grades of the subject\n",
    "(schoolsup : extra educational support (binary: yes or no))"
   ]
  },
  {
   "cell_type": "code",
   "execution_count": null,
   "metadata": {
    "execution": {
     "iopub.execute_input": "2022-08-15T06:38:52.928534Z",
     "iopub.status.busy": "2022-08-15T06:38:52.928300Z",
     "iopub.status.idle": "2022-08-15T06:38:53.111662Z",
     "shell.execute_reply": "2022-08-15T06:38:53.110997Z",
     "shell.execute_reply.started": "2022-08-15T06:38:52.928508Z"
    },
    "trusted": true
   },
   "outputs": [],
   "source": [
    "sns.barplot(data=df, x=\"schoolsup\", y=\"G3\");"
   ]
  },
  {
   "cell_type": "markdown",
   "metadata": {},
   "source": [
    "## Family Support with the grades of the subject\n",
    "(family educational support (binary: yes or no))"
   ]
  },
  {
   "cell_type": "code",
   "execution_count": null,
   "metadata": {
    "execution": {
     "iopub.execute_input": "2022-08-15T06:38:53.112822Z",
     "iopub.status.busy": "2022-08-15T06:38:53.112635Z",
     "iopub.status.idle": "2022-08-15T06:38:53.512047Z",
     "shell.execute_reply": "2022-08-15T06:38:53.511442Z",
     "shell.execute_reply.started": "2022-08-15T06:38:53.112796Z"
    },
    "trusted": true
   },
   "outputs": [],
   "source": [
    "sns.barplot(data=df, x=\"famsup\", y=\"G3\");"
   ]
  },
  {
   "cell_type": "markdown",
   "metadata": {},
   "source": [
    "## Nursery class status with the grades of the subject\n",
    "(attended nursery school (binary: yes or no))"
   ]
  },
  {
   "cell_type": "code",
   "execution_count": null,
   "metadata": {
    "execution": {
     "iopub.execute_input": "2022-08-15T06:38:53.513377Z",
     "iopub.status.busy": "2022-08-15T06:38:53.513054Z",
     "iopub.status.idle": "2022-08-15T06:38:53.697570Z",
     "shell.execute_reply": "2022-08-15T06:38:53.696603Z",
     "shell.execute_reply.started": "2022-08-15T06:38:53.513349Z"
    },
    "trusted": true
   },
   "outputs": [],
   "source": [
    "sns.barplot(data=df, x=\"nursery\", y=\"G3\");"
   ]
  },
  {
   "cell_type": "markdown",
   "metadata": {},
   "source": [
    "## Health with the grades of the subject\n",
    "(current health status (numeric: from 1 : very bad to 5 : very good))"
   ]
  },
  {
   "cell_type": "code",
   "execution_count": null,
   "metadata": {
    "execution": {
     "iopub.execute_input": "2022-08-15T06:38:53.698980Z",
     "iopub.status.busy": "2022-08-15T06:38:53.698749Z",
     "iopub.status.idle": "2022-08-15T06:38:53.978185Z",
     "shell.execute_reply": "2022-08-15T06:38:53.977588Z",
     "shell.execute_reply.started": "2022-08-15T06:38:53.698936Z"
    },
    "trusted": true
   },
   "outputs": [],
   "source": [
    "sns.barplot(data=df, x=\"health\", y=\"G3\");"
   ]
  },
  {
   "cell_type": "markdown",
   "metadata": {},
   "source": [
    "## Effect of famsize on students performance\n",
    "(famsize : family size (binary: \"LE3\" : less or equal to 3 or \"GT3\" : greater than 3))"
   ]
  },
  {
   "cell_type": "code",
   "execution_count": null,
   "metadata": {
    "execution": {
     "iopub.execute_input": "2022-08-15T06:38:53.979476Z",
     "iopub.status.busy": "2022-08-15T06:38:53.979172Z",
     "iopub.status.idle": "2022-08-15T06:38:54.141083Z",
     "shell.execute_reply": "2022-08-15T06:38:54.140193Z",
     "shell.execute_reply.started": "2022-08-15T06:38:53.979449Z"
    },
    "trusted": true
   },
   "outputs": [],
   "source": [
    "sns.boxplot(data=df, x=\"famsize\", y=\"G3\");"
   ]
  },
  {
   "cell_type": "markdown",
   "metadata": {},
   "source": [
    "## Effect of Pstatus on students performance\n",
    "(Pstatus : parent's cohabitation status (binary: \"T\" : living together or \"A\" : apart))"
   ]
  },
  {
   "cell_type": "code",
   "execution_count": null,
   "metadata": {
    "execution": {
     "iopub.execute_input": "2022-08-15T06:38:54.142745Z",
     "iopub.status.busy": "2022-08-15T06:38:54.142368Z",
     "iopub.status.idle": "2022-08-15T06:38:54.308456Z",
     "shell.execute_reply": "2022-08-15T06:38:54.307400Z",
     "shell.execute_reply.started": "2022-08-15T06:38:54.142708Z"
    },
    "trusted": true
   },
   "outputs": [],
   "source": [
    "sns.boxplot(data=df, x=\"Pstatus\", y=\"G3\");"
   ]
  },
  {
   "cell_type": "markdown",
   "metadata": {},
   "source": [
    "## Effect of Medu and Fedu on students performance\n",
    "- Medu : mother's education (numeric: 0 : none, 1 : primary education (4th grade), 2 : 5th to 9th grade, 3 : secondary education or 4: higher education) \n",
    "- Fedu : father's education (numeric: 0 : none, 1 : primary education (4th grade), 2 : 5th to 9th grade, 3 : secondary education or 4 : higher education)\n"
   ]
  },
  {
   "cell_type": "code",
   "execution_count": null,
   "metadata": {
    "execution": {
     "iopub.execute_input": "2022-08-15T06:38:54.310277Z",
     "iopub.status.busy": "2022-08-15T06:38:54.309838Z",
     "iopub.status.idle": "2022-08-15T06:38:54.750703Z",
     "shell.execute_reply": "2022-08-15T06:38:54.749890Z",
     "shell.execute_reply.started": "2022-08-15T06:38:54.310240Z"
    },
    "trusted": true
   },
   "outputs": [],
   "source": [
    "fig, ax =plt.subplots(1,2,figsize=(20,6), dpi=80, facecolor='w', edgecolor='k')\n",
    "sns.boxplot(data=df, x=\"Medu\", y=\"G3\", ax=ax[0]).set_title('Mother Education Level')\n",
    "ax[0].set_xticklabels( ('none', 'primary education (4th grade)','5th to 9th grade','secondary education','higher education'),rotation='vertical' )\n",
    "ax[0].set_xlabel('mother education')\n",
    "ax[0].set_ylabel('Final Grades')\n",
    "sns.boxplot(data=df, x=\"Fedu\", y=\"G3\", ax=ax[1]).set_title('Father Education Level')\n",
    "ax[1].set_xticklabels( ('none', 'primary education (4th grade)','5th to 9th grade','secondary education','higher education'),rotation='vertical' )\n",
    "ax[1].set_xlabel('Father education')\n",
    "ax[1].set_ylabel('Final Grades')\n",
    "fig.suptitle('Effect of Parents Education on students performancee', fontsize=16)\n",
    "fig.show()"
   ]
  },
  {
   "cell_type": "markdown",
   "metadata": {},
   "source": [
    "## Effect of Mother and Father Job on students performance\n",
    " - Mjob : mother's job (nominal: \"teacher\", \"health\" care related, civil \"services\" (e.g. administrative or police), \"at_home\" or \"other\")\n",
    "\n",
    "- Fjob : father's job (nominal: \"teacher\", \"health\" care related, civil \"services\" (e.g. administrative or police), \"at_home\" or \"other\""
   ]
  },
  {
   "cell_type": "code",
   "execution_count": null,
   "metadata": {
    "execution": {
     "iopub.execute_input": "2022-08-15T06:38:54.752237Z",
     "iopub.status.busy": "2022-08-15T06:38:54.752018Z",
     "iopub.status.idle": "2022-08-15T06:38:55.164617Z",
     "shell.execute_reply": "2022-08-15T06:38:55.163761Z",
     "shell.execute_reply.started": "2022-08-15T06:38:54.752211Z"
    },
    "trusted": true
   },
   "outputs": [],
   "source": [
    "fig, ax =plt.subplots(1,2,figsize=(20,6), dpi=80, facecolor='w', edgecolor='k')\n",
    "sns.boxplot(data=df, x=\"Mjob\", y=\"G3\", ax=ax[0]).set_title('Mother Job Level')\n",
    "ax[0].set_xticklabels( ('teacher', 'health','services','at_home','other'),rotation='vertical' )\n",
    "ax[0].set_xlabel('Mother Job')\n",
    "ax[0].set_ylabel('Final Grades')\n",
    "sns.boxplot(data=df, x=\"Fjob\", y=\"G3\", ax=ax[1]).set_title('Father Job Level')\n",
    "ax[1].set_xticklabels( ('teacher', 'health','services','at_home','other'),rotation='vertical' )\n",
    "ax[1].set_xlabel('Father Job')\n",
    "ax[1].set_ylabel('Final Grades')\n",
    "fig.suptitle('Effect of Parents Job on students performancee', fontsize=16)\n",
    "fig.show()"
   ]
  },
  {
   "cell_type": "markdown",
   "metadata": {},
   "source": [
    "## Interrelationship Between Different Grading Scheme"
   ]
  },
  {
   "cell_type": "code",
   "execution_count": null,
   "metadata": {
    "execution": {
     "iopub.execute_input": "2022-08-15T06:38:55.166211Z",
     "iopub.status.busy": "2022-08-15T06:38:55.165951Z",
     "iopub.status.idle": "2022-08-15T06:38:55.702903Z",
     "shell.execute_reply": "2022-08-15T06:38:55.702019Z",
     "shell.execute_reply.started": "2022-08-15T06:38:55.166179Z"
    },
    "trusted": true
   },
   "outputs": [],
   "source": [
    "fig, ax =plt.subplots(1,3,figsize=(20,6), dpi=80, facecolor='w', edgecolor='k')\n",
    "sns.scatterplot(data=df, x=\"G1\", y=\"G3\",ax=ax[0])\n",
    "sns.scatterplot(data=df, x=\"G2\", y=\"G3\",ax=ax[1])\n",
    "sns.scatterplot(data=df, x=\"G1\", y=\"G2\",ax=ax[2])\n",
    "sns.cubehelix_palette(start=.5, rot=-.5, as_cmap=True)\n",
    "fig.suptitle('Relationship Between Different Grade with each other', fontsize=16)\n",
    "fig.show()"
   ]
  },
  {
   "cell_type": "code",
   "execution_count": null,
   "metadata": {
    "execution": {
     "iopub.execute_input": "2022-08-15T06:38:55.704346Z",
     "iopub.status.busy": "2022-08-15T06:38:55.704069Z",
     "iopub.status.idle": "2022-08-15T06:38:55.709352Z",
     "shell.execute_reply": "2022-08-15T06:38:55.708604Z",
     "shell.execute_reply.started": "2022-08-15T06:38:55.704311Z"
    },
    "trusted": true
   },
   "outputs": [],
   "source": [
    "sns.set_theme(style=\"ticks\")"
   ]
  },
  {
   "cell_type": "code",
   "execution_count": null,
   "metadata": {
    "execution": {
     "iopub.execute_input": "2022-08-15T06:38:55.711699Z",
     "iopub.status.busy": "2022-08-15T06:38:55.711192Z",
     "iopub.status.idle": "2022-08-15T06:38:57.393871Z",
     "shell.execute_reply": "2022-08-15T06:38:57.393272Z",
     "shell.execute_reply.started": "2022-08-15T06:38:55.711661Z"
    },
    "trusted": true
   },
   "outputs": [],
   "source": [
    "sns.jointplot(x=df['G1'], y=df['G3'], kind=\"hex\", color=\"#4CB391\")\n",
    "sns.jointplot(x=df['G2'], y=df['G3'], kind=\"hex\", color=\"#4CB391\")\n",
    "sns.jointplot(x=df['G1'], y=df['G2'], kind=\"hex\", color=\"#4CB391\")\n",
    "fig.show()"
   ]
  },
  {
   "cell_type": "code",
   "execution_count": null,
   "metadata": {
    "execution": {
     "iopub.execute_input": "2022-08-15T06:38:57.394946Z",
     "iopub.status.busy": "2022-08-15T06:38:57.394778Z",
     "iopub.status.idle": "2022-08-15T06:38:57.902281Z",
     "shell.execute_reply": "2022-08-15T06:38:57.901801Z",
     "shell.execute_reply.started": "2022-08-15T06:38:57.394924Z"
    },
    "trusted": true
   },
   "outputs": [],
   "source": [
    "sns.jointplot(x=df['G1'], y=df['G2'], kind=\"hex\", color=\"#4CB391\",bins=6)"
   ]
  },
  {
   "cell_type": "markdown",
   "metadata": {},
   "source": []
  },
  {
   "cell_type": "code",
   "execution_count": null,
   "metadata": {
    "execution": {
     "iopub.execute_input": "2022-08-15T06:38:57.903475Z",
     "iopub.status.busy": "2022-08-15T06:38:57.903186Z",
     "iopub.status.idle": "2022-08-15T06:38:57.909463Z",
     "shell.execute_reply": "2022-08-15T06:38:57.908603Z",
     "shell.execute_reply.started": "2022-08-15T06:38:57.903450Z"
    },
    "trusted": true
   },
   "outputs": [],
   "source": [
    "df.columns"
   ]
  },
  {
   "cell_type": "code",
   "execution_count": null,
   "metadata": {
    "execution": {
     "iopub.execute_input": "2022-08-15T06:38:57.911011Z",
     "iopub.status.busy": "2022-08-15T06:38:57.910785Z",
     "iopub.status.idle": "2022-08-15T06:38:58.152798Z",
     "shell.execute_reply": "2022-08-15T06:38:58.151930Z",
     "shell.execute_reply.started": "2022-08-15T06:38:57.910983Z"
    },
    "trusted": true
   },
   "outputs": [],
   "source": [
    "sns.histplot(\n",
    "    df, x=\"absences\", y=\"G3\",\n",
    "    bins=5, discrete=(True, False),\n",
    "    cbar=True, cbar_kws=dict(shrink=.75)\n",
    ")"
   ]
  },
  {
   "cell_type": "code",
   "execution_count": null,
   "metadata": {
    "execution": {
     "iopub.execute_input": "2022-08-15T06:38:58.154659Z",
     "iopub.status.busy": "2022-08-15T06:38:58.154014Z",
     "iopub.status.idle": "2022-08-15T06:38:58.374021Z",
     "shell.execute_reply": "2022-08-15T06:38:58.373042Z",
     "shell.execute_reply.started": "2022-08-15T06:38:58.154623Z"
    },
    "trusted": true
   },
   "outputs": [],
   "source": [
    "sns.histplot(\n",
    "    df, x=\"G3\", hue=\"sex\", element=\"step\",\n",
    "    stat=\"density\", common_norm=False,bins=6\n",
    ")"
   ]
  },
  {
   "cell_type": "code",
   "execution_count": null,
   "metadata": {
    "execution": {
     "iopub.execute_input": "2022-08-15T06:38:58.375675Z",
     "iopub.status.busy": "2022-08-15T06:38:58.375264Z",
     "iopub.status.idle": "2022-08-15T06:38:58.625116Z",
     "shell.execute_reply": "2022-08-15T06:38:58.624338Z",
     "shell.execute_reply.started": "2022-08-15T06:38:58.375640Z"
    },
    "trusted": true
   },
   "outputs": [],
   "source": [
    "sns.histplot(\n",
    "    df, x=\"G3\", hue=\"failures\", element=\"step\",\n",
    "    stat=\"density\", common_norm=False,bins=6\n",
    ")"
   ]
  },
  {
   "cell_type": "code",
   "execution_count": null,
   "metadata": {
    "execution": {
     "iopub.execute_input": "2022-08-15T06:38:58.626671Z",
     "iopub.status.busy": "2022-08-15T06:38:58.626447Z",
     "iopub.status.idle": "2022-08-15T06:38:58.877607Z",
     "shell.execute_reply": "2022-08-15T06:38:58.876578Z",
     "shell.execute_reply.started": "2022-08-15T06:38:58.626643Z"
    },
    "trusted": true
   },
   "outputs": [],
   "source": [
    "sns.histplot(\n",
    "    df, x=\"G3\", hue=\"studytime\", element=\"step\",\n",
    "    stat=\"density\", common_norm=False,bins=6\n",
    ")\n"
   ]
  },
  {
   "cell_type": "markdown",
   "metadata": {},
   "source": [
    "# Multivarate Analysis"
   ]
  },
  {
   "cell_type": "code",
   "execution_count": null,
   "metadata": {
    "execution": {
     "iopub.execute_input": "2022-08-15T06:38:58.880692Z",
     "iopub.status.busy": "2022-08-15T06:38:58.879987Z",
     "iopub.status.idle": "2022-08-15T06:38:59.084215Z",
     "shell.execute_reply": "2022-08-15T06:38:59.082889Z",
     "shell.execute_reply.started": "2022-08-15T06:38:58.880655Z"
    },
    "trusted": true
   },
   "outputs": [],
   "source": [
    "sns.histplot(\n",
    "    df,x=\"absences\", y=\"address\", hue=\"sex\", legend=True,bins=10\n",
    ");"
   ]
  },
  {
   "cell_type": "code",
   "execution_count": null,
   "metadata": {
    "execution": {
     "iopub.execute_input": "2022-08-15T06:38:59.089092Z",
     "iopub.status.busy": "2022-08-15T06:38:59.088701Z",
     "iopub.status.idle": "2022-08-15T06:38:59.335450Z",
     "shell.execute_reply": "2022-08-15T06:38:59.334423Z",
     "shell.execute_reply.started": "2022-08-15T06:38:59.089048Z"
    },
    "trusted": true
   },
   "outputs": [],
   "source": [
    "sns.histplot(\n",
    "    df,x=\"absences\", y=\"G3\", hue=\"sex\", legend=True,bins=10\n",
    ");"
   ]
  },
  {
   "cell_type": "code",
   "execution_count": null,
   "metadata": {
    "execution": {
     "iopub.execute_input": "2022-08-15T06:38:59.337317Z",
     "iopub.status.busy": "2022-08-15T06:38:59.337038Z",
     "iopub.status.idle": "2022-08-15T06:38:59.589274Z",
     "shell.execute_reply": "2022-08-15T06:38:59.588116Z",
     "shell.execute_reply.started": "2022-08-15T06:38:59.337283Z"
    },
    "trusted": true
   },
   "outputs": [],
   "source": [
    "sns.histplot(\n",
    "    df,x=\"absences\", y=\"G3\", hue=\"address\", legend=True,bins=10\n",
    ");"
   ]
  },
  {
   "cell_type": "markdown",
   "metadata": {},
   "source": [
    "### Correlation between different numrical varriable"
   ]
  },
  {
   "cell_type": "code",
   "execution_count": null,
   "metadata": {
    "execution": {
     "iopub.execute_input": "2022-08-15T06:38:59.590903Z",
     "iopub.status.busy": "2022-08-15T06:38:59.590625Z",
     "iopub.status.idle": "2022-08-15T06:38:59.847057Z",
     "shell.execute_reply": "2022-08-15T06:38:59.846027Z",
     "shell.execute_reply.started": "2022-08-15T06:38:59.590868Z"
    },
    "trusted": true
   },
   "outputs": [],
   "source": [
    "print(df.corr())\n",
    "  \n",
    "# plotting correlation heatmap\n",
    "fig, ax = plt.subplots(figsize=(20,5)) \n",
    "mask = np.triu(np.ones_like(df.corr()))\n",
    "dataplot = sns.heatmap(df.corr(), cmap=\"YlGnBu\", annot=True,mask=mask,annot_kws={'size': 13},ax=ax)\n",
    "  \n",
    "# displaying heatmap\n",
    "plt.show()"
   ]
  },
  {
   "cell_type": "markdown",
   "metadata": {},
   "source": [
    "# Modeling"
   ]
  },
  {
   "cell_type": "code",
   "execution_count": null,
   "metadata": {
    "execution": {
     "iopub.execute_input": "2022-08-15T06:41:30.053624Z",
     "iopub.status.busy": "2022-08-15T06:41:30.053321Z",
     "iopub.status.idle": "2022-08-15T06:41:30.498035Z",
     "shell.execute_reply": "2022-08-15T06:41:30.497218Z",
     "shell.execute_reply.started": "2022-08-15T06:41:30.053593Z"
    },
    "trusted": true
   },
   "outputs": [],
   "source": [
    "from sklearn.model_selection import train_test_split\n",
    "from sklearn.base import BaseEstimator, TransformerMixin\n",
    "from sklearn.preprocessing import OneHotEncoder, MinMaxScaler\n",
    "from sklearn.impute import SimpleImputer\n",
    "from sklearn.pipeline import Pipeline, FeatureUnion\n",
    "from sklearn.compose import ColumnTransformer\n",
    "from sklearn.linear_model import LinearRegression\n",
    "from sklearn.metrics import mean_absolute_error\n",
    "from sklearn.metrics import r2_score\n",
    "from sklearn.ensemble import RandomForestRegressor"
   ]
  },
  {
   "cell_type": "markdown",
   "metadata": {},
   "source": [
    "## Feature Engenering"
   ]
  },
  {
   "cell_type": "code",
   "execution_count": null,
   "metadata": {
    "execution": {
     "iopub.execute_input": "2022-08-15T06:41:37.473113Z",
     "iopub.status.busy": "2022-08-15T06:41:37.472818Z",
     "iopub.status.idle": "2022-08-15T06:41:37.751116Z",
     "shell.execute_reply": "2022-08-15T06:41:37.750352Z",
     "shell.execute_reply.started": "2022-08-15T06:41:37.473082Z"
    },
    "trusted": true
   },
   "outputs": [],
   "source": [
    "# Outlier removal\n",
    "\n",
    "result = df.select_dtypes(include='number')#selecting dtypes in dataset\n",
    "\n",
    "for i in result.columns:\n",
    "    percentile25 = df[i].quantile(0.25)\n",
    "    percentile75 = df[i].quantile(0.75)\n",
    "    \n",
    "    iqr = percentile75-percentile25\n",
    "    \n",
    "    upper_limit = percentile75 + 1.5 * iqr\n",
    "    lower_limit = percentile25 - 1.5 * iqr\n",
    "    \n",
    "    df[df[i] > upper_limit]\n",
    "    df[df[i] < lower_limit]\n",
    "    \n",
    "    df_new = df[df[i] < upper_limit ]\n",
    "    df_new = df[df[i] > lower_limit ]"
   ]
  },
  {
   "cell_type": "markdown",
   "metadata": {},
   "source": [
    "## 1. Linner Regression Model"
   ]
  },
  {
   "cell_type": "code",
   "execution_count": null,
   "metadata": {
    "execution": {
     "iopub.execute_input": "2022-08-15T06:41:38.754439Z",
     "iopub.status.busy": "2022-08-15T06:41:38.754007Z",
     "iopub.status.idle": "2022-08-15T06:41:38.763336Z",
     "shell.execute_reply": "2022-08-15T06:41:38.762495Z",
     "shell.execute_reply.started": "2022-08-15T06:41:38.754400Z"
    },
    "trusted": true
   },
   "outputs": [],
   "source": [
    "\n",
    "#  Spliting Column in Train and Test set\n",
    "\n",
    "X_train, X_test, y_train, y_test = train_test_split(df_new.drop(columns=['G1','G3','G2','absences']), \n",
    "                                                    df_new['G3'], \n",
    "                                                    test_size=.2, \n",
    "                                                    random_state=10)"
   ]
  },
  {
   "cell_type": "code",
   "execution_count": null,
   "metadata": {
    "execution": {
     "iopub.execute_input": "2022-08-15T06:41:39.512534Z",
     "iopub.status.busy": "2022-08-15T06:41:39.511415Z",
     "iopub.status.idle": "2022-08-15T06:41:39.524713Z",
     "shell.execute_reply": "2022-08-15T06:41:39.524008Z",
     "shell.execute_reply.started": "2022-08-15T06:41:39.512472Z"
    },
    "trusted": true
   },
   "outputs": [],
   "source": [
    "#  Further Divide dataframe into numerical and categorical type of train dataset\n",
    "\n",
    "# Define categorical columns\n",
    "categorical = list(X_train.select_dtypes('category').columns)\n",
    "print(f\"Categorical columns are: {categorical}\")\n",
    "\n",
    "# Define numerical columns\n",
    "numerical = list(X_train.select_dtypes('number').columns)\n",
    "print(f\"Numerical columns are: {numerical}\")"
   ]
  },
  {
   "cell_type": "code",
   "execution_count": null,
   "metadata": {
    "execution": {
     "iopub.execute_input": "2022-08-15T06:41:39.774877Z",
     "iopub.status.busy": "2022-08-15T06:41:39.774541Z",
     "iopub.status.idle": "2022-08-15T06:41:39.779793Z",
     "shell.execute_reply": "2022-08-15T06:41:39.779118Z",
     "shell.execute_reply.started": "2022-08-15T06:41:39.774839Z"
    },
    "trusted": true
   },
   "outputs": [],
   "source": [
    "#  One Hot enconding of cat dataset\n",
    "\n",
    "cat_pipe = Pipeline([\n",
    "    ('encoder', OneHotEncoder(handle_unknown='ignore', sparse=False))\n",
    "])"
   ]
  },
  {
   "cell_type": "code",
   "execution_count": null,
   "metadata": {
    "execution": {
     "iopub.execute_input": "2022-08-15T06:41:40.192425Z",
     "iopub.status.busy": "2022-08-15T06:41:40.192022Z",
     "iopub.status.idle": "2022-08-15T06:41:40.197453Z",
     "shell.execute_reply": "2022-08-15T06:41:40.196343Z",
     "shell.execute_reply.started": "2022-08-15T06:41:40.192387Z"
    },
    "trusted": true
   },
   "outputs": [],
   "source": [
    "#  Scaling of numerical dataset\n",
    "\n",
    "from sklearn.preprocessing import Normalizer\n",
    "num_pipe = Pipeline([('scaler', Normalizer())])"
   ]
  },
  {
   "cell_type": "code",
   "execution_count": null,
   "metadata": {
    "execution": {
     "iopub.execute_input": "2022-08-15T06:41:40.512077Z",
     "iopub.status.busy": "2022-08-15T06:41:40.511629Z",
     "iopub.status.idle": "2022-08-15T06:41:40.515719Z",
     "shell.execute_reply": "2022-08-15T06:41:40.515006Z",
     "shell.execute_reply.started": "2022-08-15T06:41:40.512034Z"
    },
    "trusted": true
   },
   "outputs": [],
   "source": [
    "#  Combining of both categorical and numerical pipeline\n",
    "\n",
    "# Combine categorical and numerical pipelines\n",
    "preprocessor = ColumnTransformer([\n",
    "    ('cat', cat_pipe, categorical),\n",
    "    ('num', num_pipe, numerical)\n",
    "])"
   ]
  },
  {
   "cell_type": "code",
   "execution_count": null,
   "metadata": {
    "execution": {
     "iopub.execute_input": "2022-08-15T06:41:40.832658Z",
     "iopub.status.busy": "2022-08-15T06:41:40.832219Z",
     "iopub.status.idle": "2022-08-15T06:41:40.969927Z",
     "shell.execute_reply": "2022-08-15T06:41:40.969311Z",
     "shell.execute_reply.started": "2022-08-15T06:41:40.832616Z"
    },
    "trusted": true
   },
   "outputs": [],
   "source": [
    "# Fixing Pipeline on Linner regression\n",
    "\n",
    "pipe = Pipeline([\n",
    "    ('preprocessor', preprocessor),\n",
    "    ('model', LinearRegression())\n",
    "])\n",
    "\n",
    "pipe.fit(X_train, y_train)"
   ]
  },
  {
   "cell_type": "code",
   "execution_count": null,
   "metadata": {
    "execution": {
     "iopub.execute_input": "2022-08-15T06:41:41.132260Z",
     "iopub.status.busy": "2022-08-15T06:41:41.131370Z",
     "iopub.status.idle": "2022-08-15T06:41:41.167639Z",
     "shell.execute_reply": "2022-08-15T06:41:41.166817Z",
     "shell.execute_reply.started": "2022-08-15T06:41:41.132215Z"
    },
    "trusted": true
   },
   "outputs": [],
   "source": [
    "#  Predict training data\n",
    "\n",
    "y_train_pred = pipe.predict(X_train)\n",
    "print(f\"Predictions on training data: {y_train_pred}\")"
   ]
  },
  {
   "cell_type": "code",
   "execution_count": null,
   "metadata": {
    "execution": {
     "iopub.execute_input": "2022-08-15T06:41:41.322521Z",
     "iopub.status.busy": "2022-08-15T06:41:41.321374Z",
     "iopub.status.idle": "2022-08-15T06:41:41.355351Z",
     "shell.execute_reply": "2022-08-15T06:41:41.353071Z",
     "shell.execute_reply.started": "2022-08-15T06:41:41.322453Z"
    },
    "trusted": true
   },
   "outputs": [],
   "source": [
    "# Predict test data\n",
    "\n",
    "y_test_pred = pipe.predict(X_test)\n",
    "print(f\"Predictions on test data: {y_test_pred}\")"
   ]
  },
  {
   "cell_type": "code",
   "execution_count": null,
   "metadata": {
    "execution": {
     "iopub.execute_input": "2022-08-15T06:41:41.373992Z",
     "iopub.status.busy": "2022-08-15T06:41:41.372952Z",
     "iopub.status.idle": "2022-08-15T06:41:41.380616Z",
     "shell.execute_reply": "2022-08-15T06:41:41.380017Z",
     "shell.execute_reply.started": "2022-08-15T06:41:41.373932Z"
    },
    "trusted": true
   },
   "outputs": [],
   "source": [
    "# Check r square value\n",
    "\n",
    "r2 = r2_score(y_test, y_test_pred)\n",
    "print('r2 score for a  model is', r2)"
   ]
  },
  {
   "cell_type": "markdown",
   "metadata": {},
   "source": [
    "## 2. Fitting Random Forest"
   ]
  },
  {
   "cell_type": "code",
   "execution_count": null,
   "metadata": {
    "execution": {
     "iopub.execute_input": "2022-08-15T06:41:42.192756Z",
     "iopub.status.busy": "2022-08-15T06:41:42.192141Z",
     "iopub.status.idle": "2022-08-15T06:41:42.205281Z",
     "shell.execute_reply": "2022-08-15T06:41:42.204195Z",
     "shell.execute_reply.started": "2022-08-15T06:41:42.192699Z"
    },
    "trusted": true
   },
   "outputs": [],
   "source": [
    "# New dataframe\n",
    "df_rf=df_new.copy(deep=True)\n",
    "\n",
    "# Spliting dataset in Train and Test set\n",
    "\n",
    "X_train_n, X_test_n, y_train_n, y_test_n = train_test_split(df_rf.drop(columns=['G1','G3','G2', 'address', \n",
    "                                                                                'famsize', 'guardian', 'traveltime','absences','romantic']), \n",
    "                                                    df_rf['G3'], \n",
    "                                                    test_size=.2, \n",
    "                                                    random_state=10)"
   ]
  },
  {
   "cell_type": "code",
   "execution_count": null,
   "metadata": {
    "execution": {
     "iopub.execute_input": "2022-08-15T06:41:42.780226Z",
     "iopub.status.busy": "2022-08-15T06:41:42.779337Z",
     "iopub.status.idle": "2022-08-15T06:41:42.790136Z",
     "shell.execute_reply": "2022-08-15T06:41:42.788831Z",
     "shell.execute_reply.started": "2022-08-15T06:41:42.780174Z"
    },
    "trusted": true
   },
   "outputs": [],
   "source": [
    "# Define categorical columns\n",
    "\n",
    "categorical_n = list(X_train_n.select_dtypes('category').columns)\n",
    "print(f\"Categorical columns are: {categorical_n}\")"
   ]
  },
  {
   "cell_type": "code",
   "execution_count": null,
   "metadata": {
    "execution": {
     "iopub.execute_input": "2022-08-15T06:41:43.110723Z",
     "iopub.status.busy": "2022-08-15T06:41:43.110440Z",
     "iopub.status.idle": "2022-08-15T06:41:43.120188Z",
     "shell.execute_reply": "2022-08-15T06:41:43.119094Z",
     "shell.execute_reply.started": "2022-08-15T06:41:43.110689Z"
    },
    "trusted": true
   },
   "outputs": [],
   "source": [
    "# Define numerical columns\n",
    "\n",
    "numerical_n = list(X_train_n.select_dtypes('number').columns)\n",
    "print(f\"Numerical columns are: {numerical_n}\")"
   ]
  },
  {
   "cell_type": "code",
   "execution_count": null,
   "metadata": {
    "execution": {
     "iopub.execute_input": "2022-08-15T06:41:43.354039Z",
     "iopub.status.busy": "2022-08-15T06:41:43.353411Z",
     "iopub.status.idle": "2022-08-15T06:41:43.358515Z",
     "shell.execute_reply": "2022-08-15T06:41:43.357625Z",
     "shell.execute_reply.started": "2022-08-15T06:41:43.354003Z"
    },
    "trusted": true
   },
   "outputs": [],
   "source": [
    "# One Hot encoding\n",
    "\n",
    "cat_pipe_n = Pipeline([\n",
    "    ('encoder', OneHotEncoder(handle_unknown='ignore', sparse=False))\n",
    "])"
   ]
  },
  {
   "cell_type": "code",
   "execution_count": null,
   "metadata": {
    "execution": {
     "iopub.execute_input": "2022-08-15T06:41:43.672915Z",
     "iopub.status.busy": "2022-08-15T06:41:43.672648Z",
     "iopub.status.idle": "2022-08-15T06:41:43.678868Z",
     "shell.execute_reply": "2022-08-15T06:41:43.678117Z",
     "shell.execute_reply.started": "2022-08-15T06:41:43.672883Z"
    },
    "trusted": true
   },
   "outputs": [],
   "source": [
    "# Normelization\n",
    "\n",
    "num_pipe_n = Pipeline([('scaler', Normalizer())])"
   ]
  },
  {
   "cell_type": "code",
   "execution_count": null,
   "metadata": {
    "execution": {
     "iopub.execute_input": "2022-08-15T06:41:44.020521Z",
     "iopub.status.busy": "2022-08-15T06:41:44.020085Z",
     "iopub.status.idle": "2022-08-15T06:41:44.026516Z",
     "shell.execute_reply": "2022-08-15T06:41:44.025406Z",
     "shell.execute_reply.started": "2022-08-15T06:41:44.020489Z"
    },
    "trusted": true
   },
   "outputs": [],
   "source": [
    "# Combine categorical and numerical pipelines\n",
    "\n",
    "preprocessor_n = ColumnTransformer([\n",
    "    ('cat', cat_pipe_n, categorical_n),\n",
    "    ('num', num_pipe_n, numerical_n)\n",
    "])"
   ]
  },
  {
   "cell_type": "code",
   "execution_count": null,
   "metadata": {
    "execution": {
     "iopub.execute_input": "2022-08-15T06:41:44.316614Z",
     "iopub.status.busy": "2022-08-15T06:41:44.315916Z",
     "iopub.status.idle": "2022-08-15T06:41:44.815545Z",
     "shell.execute_reply": "2022-08-15T06:41:44.814902Z",
     "shell.execute_reply.started": "2022-08-15T06:41:44.316578Z"
    },
    "trusted": true
   },
   "outputs": [],
   "source": [
    "# Fit a pipeline with transformers and an estimator to the training data\n",
    "\n",
    "pipe_n = Pipeline([\n",
    "    ('preprocessor', preprocessor_n),\n",
    "    ('model', RandomForestRegressor(max_depth=10, random_state=8))])\n",
    "pipe_n.fit(X_train_n, y_train_n)"
   ]
  },
  {
   "cell_type": "code",
   "execution_count": null,
   "metadata": {
    "execution": {
     "iopub.execute_input": "2022-08-15T06:41:44.817310Z",
     "iopub.status.busy": "2022-08-15T06:41:44.817081Z",
     "iopub.status.idle": "2022-08-15T06:41:44.857187Z",
     "shell.execute_reply": "2022-08-15T06:41:44.856395Z",
     "shell.execute_reply.started": "2022-08-15T06:41:44.817278Z"
    },
    "trusted": true
   },
   "outputs": [],
   "source": [
    "# Predict training data\n",
    "\n",
    "y_train_pred_n = pipe_n.predict(X_train_n)\n",
    "print(f\"Predictions on training data: {y_train_pred_n}\")"
   ]
  },
  {
   "cell_type": "code",
   "execution_count": null,
   "metadata": {
    "execution": {
     "iopub.execute_input": "2022-08-15T06:41:44.914323Z",
     "iopub.status.busy": "2022-08-15T06:41:44.914060Z",
     "iopub.status.idle": "2022-08-15T06:41:44.942730Z",
     "shell.execute_reply": "2022-08-15T06:41:44.941655Z",
     "shell.execute_reply.started": "2022-08-15T06:41:44.914295Z"
    },
    "trusted": true
   },
   "outputs": [],
   "source": [
    "# Predict test data\n",
    "\n",
    "y_test_pred_n = pipe_n.predict(X_test_n)\n",
    "print(f\"Predictions on test data: {y_test_pred_n}\")"
   ]
  },
  {
   "cell_type": "code",
   "execution_count": null,
   "metadata": {
    "execution": {
     "iopub.execute_input": "2022-08-15T06:41:45.505083Z",
     "iopub.status.busy": "2022-08-15T06:41:45.504058Z",
     "iopub.status.idle": "2022-08-15T06:41:45.510470Z",
     "shell.execute_reply": "2022-08-15T06:41:45.509782Z",
     "shell.execute_reply.started": "2022-08-15T06:41:45.505032Z"
    },
    "trusted": true
   },
   "outputs": [],
   "source": [
    "# Check r square value of Random Forest\n",
    "\n",
    "r2_n = r2_score(y_test_n, y_test_pred_n)\n",
    "print('r2_n score for a  model is', r2_n)"
   ]
  },
  {
   "cell_type": "markdown",
   "metadata": {},
   "source": [
    "### Infrence\n",
    "* Random forest is performing better as compare to linner regression.\n",
    "* r2 score is too less for making prediction\n",
    "* G1 and G2 high correlated with Target - using any one one them lead to increase in beterment of model."
   ]
  }
 ],
 "metadata": {
  "kernelspec": {
   "display_name": "Python 3",
   "language": "python",
   "name": "python3"
  },
  "language_info": {
   "codemirror_mode": {
    "name": "ipython",
    "version": 3
   },
   "file_extension": ".py",
   "mimetype": "text/x-python",
   "name": "python",
   "nbconvert_exporter": "python",
   "pygments_lexer": "ipython3",
   "version": "3.13.0"
  }
 },
 "nbformat": 4,
 "nbformat_minor": 4
}
